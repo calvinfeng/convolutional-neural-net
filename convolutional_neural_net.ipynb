{
 "cells": [
  {
   "cell_type": "markdown",
   "metadata": {},
   "source": [
    "# Convolutional Neural Network"
   ]
  },
  {
   "cell_type": "code",
   "execution_count": null,
   "metadata": {
    "collapsed": false
   },
   "outputs": [],
   "source": [
    "from data_utils import get_preprocessed_CIFAR10\n",
    "\n",
    "# Let's get some data in first\n",
    "feed_dict = get_preprocessed_CIFAR10('datasets/cifar-10-batches-py')\n",
    "\n",
    "for key, value in feed_dict.iteritems():\n",
    "    print \"%s has shape: %s\" % (key, value.shape)"
   ]
  },
  {
   "cell_type": "code",
   "execution_count": null,
   "metadata": {
    "collapsed": false
   },
   "outputs": [],
   "source": [
    "from conv_net_model import ConvNetModel\n",
    "from solver import Solver\n",
    "import time\n",
    "\n",
    "# Define the model\n",
    "model = ConvNetModel()\n",
    "t0 = time.time()\n",
    "solver = Solver(model, \n",
    "                feed_dict, \n",
    "                update_rule='sgd_momentum', \n",
    "                num_epochs=4, \n",
    "                batch_size=100, \n",
    "                optim_config={'learning_rate': 1e-3},\n",
    "                verbose=True)\n",
    "solver.train()\n",
    "tf = time.time()"
   ]
  },
  {
   "cell_type": "code",
   "execution_count": null,
   "metadata": {
    "collapsed": true
   },
   "outputs": [],
   "source": []
  }
 ],
 "metadata": {
  "kernelspec": {
   "display_name": "Python 2",
   "language": "python",
   "name": "python2"
  },
  "language_info": {
   "codemirror_mode": {
    "name": "ipython",
    "version": 2
   },
   "file_extension": ".py",
   "mimetype": "text/x-python",
   "name": "python",
   "nbconvert_exporter": "python",
   "pygments_lexer": "ipython2",
   "version": "2.7.6"
  }
 },
 "nbformat": 4,
 "nbformat_minor": 0
}
