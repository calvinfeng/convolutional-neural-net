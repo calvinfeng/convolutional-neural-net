{
 "cells": [
  {
   "cell_type": "markdown",
   "metadata": {},
   "source": [
    "# Convolutional Neural Network"
   ]
  },
  {
   "cell_type": "code",
   "execution_count": 2,
   "metadata": {
    "collapsed": false
   },
   "outputs": [
    {
     "name": "stdout",
     "output_type": "stream",
     "text": [
      "X_val has shape: (1000, 3, 32, 32)\n",
      "X_train has shape: (49000, 3, 32, 32)\n",
      "X_test has shape: (1000, 3, 32, 32)\n",
      "y_val has shape: (1000,)\n",
      "y_train has shape: (49000,)\n",
      "y_test has shape: (1000,)\n"
     ]
    }
   ],
   "source": [
    "from data_utils import get_preprocessed_CIFAR10\n",
    "\n",
    "# Let's get some data in first\n",
    "feed_dict = get_preprocessed_CIFAR10('datasets/cifar-10-batches-py')\n",
    "\n",
    "for key, value in feed_dict.iteritems():\n",
    "    print \"%s has shape: %s\" % (key, value.shape)"
   ]
  },
  {
   "cell_type": "code",
   "execution_count": null,
   "metadata": {
    "collapsed": false
   },
   "outputs": [
    {
     "name": "stdout",
     "output_type": "stream",
     "text": [
      "(Iteration 1 / 1960) loss: 2.303022\n",
      "(Epoch 0 / 4) train acc: 0.123000; val_acc: 0.111000\n",
      "(Iteration 11 / 1960) loss: 2.291381\n",
      "(Iteration 21 / 1960) loss: 2.257190\n",
      "(Iteration 31 / 1960) loss: 2.203646\n",
      "(Iteration 41 / 1960) loss: 2.176024\n",
      "(Iteration 51 / 1960) loss: 2.069092\n",
      "(Iteration 61 / 1960) loss: 2.036589\n",
      "(Iteration 71 / 1960) loss: 1.912840\n",
      "(Iteration 81 / 1960) loss: 1.929446\n",
      "(Iteration 91 / 1960) loss: 1.831559\n",
      "(Iteration 101 / 1960) loss: 1.787254\n",
      "(Iteration 111 / 1960) loss: 1.776150\n",
      "(Iteration 121 / 1960) loss: 1.642039"
     ]
    }
   ],
   "source": [
    "from conv_net_model import ConvNetModel\n",
    "from solver import Solver\n",
    "import time\n",
    "\n",
    "# Define the model\n",
    "model = ConvNetModel()\n",
    "t0 = time.time()\n",
    "solver = Solver(model, \n",
    "                feed_dict, \n",
    "                update_rule='sgd_momentum', \n",
    "                num_epochs=4, \n",
    "                batch_size=100, \n",
    "                optim_config={'learning_rate': 1e-3},\n",
    "                verbose=True)\n",
    "solver.train()\n",
    "tf = time.time()"
   ]
  },
  {
   "cell_type": "code",
   "execution_count": null,
   "metadata": {
    "collapsed": true
   },
   "outputs": [],
   "source": []
  }
 ],
 "metadata": {
  "kernelspec": {
   "display_name": "Python 2",
   "language": "python",
   "name": "python2"
  },
  "language_info": {
   "codemirror_mode": {
    "name": "ipython",
    "version": 2
   },
   "file_extension": ".py",
   "mimetype": "text/x-python",
   "name": "python",
   "nbconvert_exporter": "python",
   "pygments_lexer": "ipython2",
   "version": "2.7.6"
  }
 },
 "nbformat": 4,
 "nbformat_minor": 0
}
